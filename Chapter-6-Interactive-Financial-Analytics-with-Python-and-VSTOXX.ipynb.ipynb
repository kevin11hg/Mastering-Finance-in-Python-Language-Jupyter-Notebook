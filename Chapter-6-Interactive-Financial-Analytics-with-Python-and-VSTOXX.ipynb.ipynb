{
 "metadata": {
  "language_info": {
   "codemirror_mode": {
    "name": "ipython",
    "version": 3
   },
   "file_extension": ".py",
   "mimetype": "text/x-python",
   "name": "python",
   "nbconvert_exporter": "python",
   "pygments_lexer": "ipython3",
   "version": "3.4.5"
  },
  "orig_nbformat": 2,
  "kernelspec": {
   "name": "python345jvsc74a57bd0ab475c9ee67b8abb799c3a3d45ecbe76199273a72b0780c6dd3e8411c671f16e",
   "display_name": "Python 3.4.5 64-bit"
  },
  "metadata": {
   "interpreter": {
    "hash": "ab475c9ee67b8abb799c3a3d45ecbe76199273a72b0780c6dd3e8411c671f16e"
   }
  }
 },
 "nbformat": 4,
 "nbformat_minor": 2,
 "cells": [
  {
   "source": [
    "<big>   \n",
    "\n",
    "Investors use volatility derivatives to diversify and hedge their risk in equity and credit portfolios. Since long-term investors in equity funds are exposed to downside risk, volatility can be used as a hedge for the tail risk and replacement for the put options. In the US, the <b>Chicago Board Options Exchange (CBOE) Volatility Index (VIX)</b> measures the short-term volatility implied by the S&P 500 stock index option prices. Many people around the world use the VIX to measure the stock market volatility over the next 30-day period. In Europe, the <b>EURO STOXX 50 Volatility (VSTOXX) </b> market index is based on the market prices of a basket of <b>Euro STOXX 50 Index Options (OESX)</b> nd measures th eimplied market volatility over the next 30 day s on the EURO STOXX 50 Index\n",
    "\n",
    "For benchmark strategies utilizing the EURO STOXX 50 Index, the nature of its negative correlation with the VSTOXX presents a viable way of avoiding benchmark-rebalancing costs. The statistical nature of volatility allows traders to perform mean-reverting strategies, dispersion trading, and volatility spread trading, among others.\n",
    "\n",
    "\n",
    "In this chapter,\n",
    "\n",
    "<b>We will</b> take a look at performing data analytics on the VSTOXX, EURO STOXX 5 Index, and OESX. The\n",
    "\n",
    "Code presented here runs on the IPython Notebook, the interactive component of Python, to help us visualize data and study relationships between them. In this chapter,\n",
    "\n",
    "\n",
    "<b>We will</b> discuss the following topics:\n",
    "\n",
    "\n",
    "+ Introduction to STOXX and the Eurex Exchange\n",
    "+ Introduction to the EURO STOXX 50 Index, VSTOXX, and VIX\n",
    "+ Gathering the EURO STOXX 50 Index and VSTOXX data with Python\n",
    "+ Using the <pre>urllib</b> and </rep>lxml</pre> modules to read and traverse HTML data\n",
    "+ Understsanding the file data format published by VSTOXX\n",
    "\n",
    "</big>\n",
    "\n"
   ],
   "cell_type": "markdown",
   "metadata": {}
  },
  {
   "cell_type": "code",
   "execution_count": null,
   "metadata": {},
   "outputs": [],
   "source": []
  }
 ]
}